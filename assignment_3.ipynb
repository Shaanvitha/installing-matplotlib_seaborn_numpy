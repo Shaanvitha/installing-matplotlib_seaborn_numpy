{
  "nbformat": 4,
  "nbformat_minor": 0,
  "metadata": {
    "colab": {
      "provenance": [],
      "authorship_tag": "ABX9TyOKDNH7DrbrCvQ5VNDQsxCJ",
      "include_colab_link": true
    },
    "kernelspec": {
      "name": "python3",
      "display_name": "Python 3"
    },
    "language_info": {
      "name": "python"
    }
  },
  "cells": [
    {
      "cell_type": "markdown",
      "metadata": {
        "id": "view-in-github",
        "colab_type": "text"
      },
      "source": [
        "<a href=\"https://colab.research.google.com/github/Shaanvitha/installing-matplotlib_seaborn_numpy/blob/main/assignment_3.ipynb\" target=\"_parent\"><img src=\"https://colab.research.google.com/assets/colab-badge.svg\" alt=\"Open In Colab\"/></a>"
      ]
    },
    {
      "cell_type": "code",
      "source": [
        "#Exercise-1: Write a Python program that checks whether a given number is prime or not. A prime number is a natural number greater than 1 that has no positive divisors other than 1 and itself\n",
        "\n",
        "def is_prime(num):\n",
        "  if num <= 1:\n",
        "    return False\n",
        "  for i in range(2, int(num**0.5) + 1):\n",
        "    if num % i == 0:\n",
        "      return False\n",
        "  return True\n",
        "\n",
        "number = int(input(\"Enter a number: \"))\n",
        "if is_prime(number):\n",
        "  print(f\"{number} is a prime number.\")\n",
        "else:\n",
        "  print(f\"{number} is not a prime number.\")\n"
      ],
      "metadata": {
        "colab": {
          "base_uri": "https://localhost:8080/"
        },
        "id": "VNr7iTEQil2G",
        "outputId": "43aeb2c4-c7d3-4f49-aadb-a28d518597ff"
      },
      "execution_count": 15,
      "outputs": [
        {
          "output_type": "stream",
          "name": "stdout",
          "text": [
            "Enter a number: 7\n",
            "7 is a prime number.\n"
          ]
        }
      ]
    },
    {
      "cell_type": "code",
      "source": [
        "#Exercise-2 : Product of Random numbers\n",
        "\n",
        "import random\n",
        "\n",
        "def product_of_random_numbers(n):\n",
        "    num1 = random.randint(1, 100)\n",
        "    num2 = random.randint(1, 100)\n",
        "    user_answer = int(input(f'what id the product of {num1} and {num2}? '))\n",
        "    correct_answer = num1 * num2\n",
        "    if user_answer == correct_answer: # fixed indentation here\n",
        "        print('correct!')\n",
        "    else: # fixed indentation here\n",
        "        print(f'incorrect. The correct answer is {correct_answer}')\n",
        "            #example\n",
        "product_of_random_numbers(5) # fixed indentation here, moved outside the function"
      ],
      "metadata": {
        "colab": {
          "base_uri": "https://localhost:8080/"
        },
        "id": "rZnlND6w43qN",
        "outputId": "198df412-66f6-4c22-b838-27d72e980fa7"
      },
      "execution_count": 1,
      "outputs": [
        {
          "output_type": "stream",
          "name": "stdout",
          "text": [
            "what id the product of 12 and 60? 720\n",
            "correct!\n"
          ]
        }
      ]
    },
    {
      "cell_type": "code",
      "source": [
        "#Exercise-3: squares of even/odd numbers\n",
        "\n",
        "def squares_of_even_odd():\n",
        "  \"\"\"\n",
        "  Returns a dictionary of squares of even numbers between 100 and 200 (inclusive).\n",
        "  \"\"\"\n",
        "  return {i: i**2 for i in range(100, 201) if i % 2 == 0}\n",
        "\n",
        "# Example usage:\n",
        "result = squares_of_even_odd()\n",
        "print(result)\n"
      ],
      "metadata": {
        "colab": {
          "base_uri": "https://localhost:8080/"
        },
        "id": "YRkIdFJjh7EI",
        "outputId": "b1da7624-deca-41d6-829e-0a78994b4382"
      },
      "execution_count": 14,
      "outputs": [
        {
          "output_type": "stream",
          "name": "stdout",
          "text": [
            "{100: 10000, 102: 10404, 104: 10816, 106: 11236, 108: 11664, 110: 12100, 112: 12544, 114: 12996, 116: 13456, 118: 13924, 120: 14400, 122: 14884, 124: 15376, 126: 15876, 128: 16384, 130: 16900, 132: 17424, 134: 17956, 136: 18496, 138: 19044, 140: 19600, 142: 20164, 144: 20736, 146: 21316, 148: 21904, 150: 22500, 152: 23104, 154: 23716, 156: 24336, 158: 24964, 160: 25600, 162: 26244, 164: 26896, 166: 27556, 168: 28224, 170: 28900, 172: 29584, 174: 30276, 176: 30976, 178: 31684, 180: 32400, 182: 33124, 184: 33856, 186: 34596, 188: 35344, 190: 36100, 192: 36864, 194: 37636, 196: 38416, 198: 39204, 200: 40000}\n"
          ]
        }
      ]
    },
    {
      "cell_type": "code",
      "source": [
        "#Exercise-4: word counter\n",
        "\n",
        "def word_counter(text):\n",
        "  word_counts = {}\n",
        "  words = text.lower().split()\n",
        "  for word in words:\n",
        "    word = word.strip('.,!?\"').strip(\"'\")\n",
        "    if word:\n",
        "      if word in word_counts:\n",
        "        word_counts[word] += 1\n",
        "      else:\n",
        "        word_counts[word] = 1\n",
        "  return word_counts\n",
        "\n",
        "# Example:\n",
        "text = \"This is a sentence. This sentence has words, and some words repeat.\"\n",
        "counts = word_counter(text)\n",
        "print(counts)\n"
      ],
      "metadata": {
        "colab": {
          "base_uri": "https://localhost:8080/"
        },
        "id": "KnklZuVZgt77",
        "outputId": "2a7b9bea-7f18-4246-c9a6-1db8c4230875"
      },
      "execution_count": 12,
      "outputs": [
        {
          "output_type": "stream",
          "name": "stdout",
          "text": [
            "{'this': 2, 'is': 1, 'a': 1, 'sentence': 2, 'has': 1, 'words': 2, 'and': 1, 'some': 1, 'repeat': 1}\n"
          ]
        }
      ]
    },
    {
      "cell_type": "code",
      "source": [
        "#Exercise-5: check for palindrome\n",
        "\n",
        "def is_palindrome(text):\n",
        "  text = text.lower().replace(\" \", \"\")\n",
        "  return text == text[::-1]\n",
        "\n",
        "# Example:\n",
        "word = \"madam\"\n",
        "if is_palindrome(word):\n",
        "  print(f\"'{word}' is a palindrome.\")\n",
        "else:\n",
        "  print(f\"'{word}' is not a palindrome.\")\n"
      ],
      "metadata": {
        "colab": {
          "base_uri": "https://localhost:8080/"
        },
        "id": "iBthTgm-g-dL",
        "outputId": "8e68e5ef-b67b-42ca-90bb-218056f4b8ec"
      },
      "execution_count": 13,
      "outputs": [
        {
          "output_type": "stream",
          "name": "stdout",
          "text": [
            "'madam' is a palindrome.\n"
          ]
        }
      ]
    }
  ]
}